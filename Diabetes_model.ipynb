{
 "cells": [
  {
   "cell_type": "code",
   "execution_count": 2,
   "id": "36c847fe-0e7c-4cb1-a5f1-8d84e65d8c40",
   "metadata": {},
   "outputs": [],
   "source": [
    "import numpy as np\n",
    "import pandas as pd\n",
    "from sklearn import ensemble\n",
    "from sklearn.model_selection import train_test_split\n",
    "from sklearn.metrics import accuracy_score, classification_report, confusion_matrix\n",
    "import joblib"
   ]
  },
  {
   "cell_type": "code",
   "execution_count": 4,
   "id": "d3f84829-8ad3-4ed8-abae-383f425f97a4",
   "metadata": {},
   "outputs": [],
   "source": [
    "df = pd.read_csv(r\"C:\\Users\\Shahab Afridy\\Downloads\\Compressed\\Health-App-main\\Health-App-main\\data\\diabetes.csv\")"
   ]
  },
  {
   "cell_type": "code",
   "execution_count": 5,
   "id": "dbfeaf69-b3b4-4839-a955-1b46bf527d86",
   "metadata": {},
   "outputs": [],
   "source": [
    "df['Glucose'].replace(0, np.nan, inplace=True)\n",
    "df['BloodPressure'].replace(0, np.nan, inplace=True)\n",
    "df['SkinThickness'].replace(0, np.nan, inplace=True)\n",
    "df['Insulin'].replace(0, np.nan, inplace=True)\n",
    "df['BMI'].replace(0, np.nan, inplace=True)\n",
    "df.drop(['SkinThickness' ,'Insulin'], axis=1, inplace=True)\n",
    "df = df.dropna(axis=0)\n"
   ]
  },
  {
   "cell_type": "code",
   "execution_count": 13,
   "id": "c5c8b857-2891-4ad8-bd34-453b6006db00",
   "metadata": {},
   "outputs": [],
   "source": [
    "\n",
    "cols = ['Pregnancies', 'Glucose', 'BloodPressure', 'BMI',\n",
    "       'DiabetesPedigreeFunction', 'Age', 'Outcome']\n",
    "\n",
    "df_outcome_1 = df[df['Outcome'] == 1].copy()\n",
    "i = len(df_outcome_1)\n",
    "df_outcome_0 = df[df['Outcome'] == 0].sample(i, random_state=1)\n",
    "# df_balanced = df_outcome_0.append(df_outcome_1)\n",
    "df_balanced = pd.concat([df_outcome_0,df_outcome_1])\n",
    "df_balanced = df[cols]"
   ]
  },
  {
   "cell_type": "code",
   "execution_count": 14,
   "id": "403ccea5-12d8-41f5-8e0e-c46baca89fed",
   "metadata": {},
   "outputs": [
    {
     "name": "stdout",
     "output_type": "stream",
     "text": [
      "Shape training set: X:(579, 6), y:(579,)\n",
      "Shape test set: X:(145, 6), y:(145,)\n"
     ]
    }
   ],
   "source": [
    "y = df_balanced['Outcome']\n",
    "X = df_balanced.drop('Outcome', axis=1)\n",
    "X_train, X_test, y_train, y_test = train_test_split(X, y, test_size=0.2, stratify=y, random_state=1)\n",
    "X_train, X_test, y_train, y_test = train_test_split(X.to_numpy(), y, test_size=0.2, stratify=y, random_state=1)\n",
    "print('Shape training set: X:{}, y:{}'.format(X_train.shape, y_train.shape))\n",
    "print('Shape test set: X:{}, y:{}'.format(X_test.shape, y_test.shape))"
   ]
  },
  {
   "cell_type": "code",
   "execution_count": 15,
   "id": "bbef547a-cdc5-456a-bd65-310e16da1fd6",
   "metadata": {},
   "outputs": [
    {
     "name": "stdout",
     "output_type": "stream",
     "text": [
      "Accuracy : 0.7655172413793103\n",
      "Classification report\n",
      "---------------------\n",
      "              precision    recall  f1-score   support\n",
      "\n",
      "           0       0.81      0.84      0.82        95\n",
      "           1       0.67      0.62      0.65        50\n",
      "\n",
      "    accuracy                           0.77       145\n",
      "   macro avg       0.74      0.73      0.74       145\n",
      "weighted avg       0.76      0.77      0.76       145\n",
      "\n",
      "_____________________\n"
     ]
    }
   ],
   "source": [
    "model = ensemble.RandomForestClassifier()\n",
    "model.fit(X_train, y_train)\n",
    "y_pred = model.predict(X_test)\n",
    "print('Accuracy : {}'.format(accuracy_score(y_test, y_pred)))\n",
    "\n",
    "clf_report = classification_report(y_test, y_pred)\n",
    "print('Classification report')\n",
    "print(\"---------------------\")\n",
    "print(clf_report)\n",
    "print(\"_____________________\")"
   ]
  },
  {
   "cell_type": "code",
   "execution_count": 16,
   "id": "5663c26c-e965-490d-b6d9-7282f94e7fc1",
   "metadata": {},
   "outputs": [
    {
     "data": {
      "text/plain": [
       "['diabetes_model.pkl']"
      ]
     },
     "execution_count": 16,
     "metadata": {},
     "output_type": "execute_result"
    }
   ],
   "source": [
    "joblib.dump(model,r\"diabetes_model.pkl\")"
   ]
  },
  {
   "cell_type": "code",
   "execution_count": null,
   "id": "415d3480-e3e7-4e29-a9ca-e89cbedd65d2",
   "metadata": {},
   "outputs": [],
   "source": []
  },
  {
   "cell_type": "code",
   "execution_count": null,
   "id": "aeee3b63-07e1-4cee-8b33-5751f9ece58f",
   "metadata": {},
   "outputs": [],
   "source": []
  }
 ],
 "metadata": {
  "kernelspec": {
   "display_name": "Python 3 (ipykernel)",
   "language": "python",
   "name": "python3"
  },
  "language_info": {
   "codemirror_mode": {
    "name": "ipython",
    "version": 3
   },
   "file_extension": ".py",
   "mimetype": "text/x-python",
   "name": "python",
   "nbconvert_exporter": "python",
   "pygments_lexer": "ipython3",
   "version": "3.10.10"
  }
 },
 "nbformat": 4,
 "nbformat_minor": 5
}
