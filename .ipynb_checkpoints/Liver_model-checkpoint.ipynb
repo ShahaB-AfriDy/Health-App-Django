{
 "cells": [
  {
   "cell_type": "code",
   "execution_count": 1,
   "id": "c8149780-6907-44d2-b22c-3ad6bdbd553b",
   "metadata": {},
   "outputs": [],
   "source": [
    "import numpy as np\n",
    "import pandas as pd\n",
    "from sklearn import ensemble\n",
    "from sklearn.model_selection import train_test_split\n",
    "from sklearn.metrics import accuracy_score, classification_report, confusion_matrix\n",
    "import joblib"
   ]
  },
  {
   "cell_type": "code",
   "execution_count": 5,
   "id": "690a0239-3530-4843-9ad2-cae828be5703",
   "metadata": {},
   "outputs": [],
   "source": [
    "patients = pd.read_csv(r\"C:\\Users\\Shahab Afridy\\Downloads\\Compressed\\Health-App-main\\Health-App-main\\data\\liver.csv\")"
   ]
  },
  {
   "cell_type": "code",
   "execution_count": 6,
   "id": "792b3780-fcaa-4e41-8599-05b0a31431dd",
   "metadata": {},
   "outputs": [],
   "source": [
    "patients['Gender']=patients['Gender'].apply(lambda x:1 if x=='Male' else 0)\n",
    "patients=patients.fillna(0.94)"
   ]
  },
  {
   "cell_type": "code",
   "execution_count": 7,
   "id": "9146516a-2035-4a5f-804e-773a6f2ee3a1",
   "metadata": {},
   "outputs": [],
   "source": [
    "X=patients[['Total_Bilirubin', 'Direct_Bilirubin',\n",
    "       'Alkaline_Phosphotase', 'Alamine_Aminotransferase',\n",
    "       'Total_Protiens', 'Albumin', 'Albumin_and_Globulin_Ratio']]\n",
    "y=patients['Dataset']"
   ]
  },
  {
   "cell_type": "code",
   "execution_count": 8,
   "id": "8584d6e5-521e-4f8a-9802-5cc4bbf70339",
   "metadata": {},
   "outputs": [
    {
     "name": "stdout",
     "output_type": "stream",
     "text": [
      "Shape training set: X:(408, 7), y:(408,)\n",
      "Shape test set: X:(175, 7), y:(175,)\n"
     ]
    }
   ],
   "source": [
    "X_train,X_test,y_train,y_test=train_test_split(X,y,test_size=0.3,random_state=123)\n",
    "X_train,X_test,y_train,y_test=train_test_split(X.to_numpy(),y,test_size=0.3,random_state=123)\n",
    "\n",
    "print('Shape training set: X:{}, y:{}'.format(X_train.shape, y_train.shape))\n",
    "print('Shape test set: X:{}, y:{}'.format(X_test.shape, y_test.shape))\n"
   ]
  },
  {
   "cell_type": "code",
   "execution_count": 9,
   "id": "532009d2-0921-4a67-bed1-dd38e893e636",
   "metadata": {},
   "outputs": [
    {
     "name": "stdout",
     "output_type": "stream",
     "text": [
      "Accuracy : 0.7485714285714286\n",
      "Classification report\n",
      "---------------------\n",
      "              precision    recall  f1-score   support\n",
      "\n",
      "           1       0.78      0.90      0.84       126\n",
      "           2       0.59      0.35      0.44        49\n",
      "\n",
      "    accuracy                           0.75       175\n",
      "   macro avg       0.68      0.63      0.64       175\n",
      "weighted avg       0.73      0.75      0.73       175\n",
      "\n",
      "_____________________\n"
     ]
    }
   ],
   "source": [
    "model = ensemble.RandomForestClassifier()\n",
    "model.fit(X_train, y_train)\n",
    "y_pred = model.predict(X_test)\n",
    "print('Accuracy : {}'.format(accuracy_score(y_test, y_pred)))\n",
    "\n",
    "clf_report = classification_report(y_test, y_pred)\n",
    "print('Classification report')\n",
    "print(\"---------------------\")\n",
    "print(clf_report)\n",
    "print(\"_____________________\")"
   ]
  },
  {
   "cell_type": "code",
   "execution_count": 10,
   "id": "f3ca3100-1339-49ab-8682-0697c291be53",
   "metadata": {},
   "outputs": [
    {
     "data": {
      "text/plain": [
       "['liver_model.pkl']"
      ]
     },
     "execution_count": 10,
     "metadata": {},
     "output_type": "execute_result"
    }
   ],
   "source": [
    "joblib.dump(model,r\"liver_model.pkl\")"
   ]
  },
  {
   "cell_type": "code",
   "execution_count": null,
   "id": "c933b69b-78e0-4aaf-a91d-f3300790ac6f",
   "metadata": {},
   "outputs": [],
   "source": []
  }
 ],
 "metadata": {
  "kernelspec": {
   "display_name": "Python 3 (ipykernel)",
   "language": "python",
   "name": "python3"
  },
  "language_info": {
   "codemirror_mode": {
    "name": "ipython",
    "version": 3
   },
   "file_extension": ".py",
   "mimetype": "text/x-python",
   "name": "python",
   "nbconvert_exporter": "python",
   "pygments_lexer": "ipython3",
   "version": "3.10.10"
  }
 },
 "nbformat": 4,
 "nbformat_minor": 5
}
